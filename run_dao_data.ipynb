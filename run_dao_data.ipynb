{
 "cells": [
  {
   "cell_type": "markdown",
   "id": "0",
   "metadata": {},
   "source": [
    "Extract data from a DAO NetCDF file"
   ]
  },
  {
   "cell_type": "code",
   "execution_count": 1,
   "id": "1",
   "metadata": {},
   "outputs": [],
   "source": [
    "import numpy as np\n",
    "import xarray as xr"
   ]
  },
  {
   "cell_type": "code",
   "execution_count": 2,
   "id": "2",
   "metadata": {},
   "outputs": [],
   "source": [
    "ds = xr.open_dataset(\"/Users/ellendyer/Library/Mobile Documents/com~apple~CloudDocs/1SHARED_WORK/Work/3_ESA_GRANT/data/dao.80_93.nc\")"
   ]
  },
  {
   "cell_type": "code",
   "execution_count": 3,
   "id": "3",
   "metadata": {},
   "outputs": [
    {
     "name": "stdout",
     "output_type": "stream",
     "text": [
      "Fixing broken pressure level data\n"
     ]
    }
   ],
   "source": [
    "if ds.coords[\"level\"].isnull().all():\n",
    "    print(\"Fixing broken pressure level data\")\n",
    "    levels = [1000.0, 950.0, 900.0, 850.0, 700.0, 500.0, 300.0, 200.0]\n",
    "    ds.coords[\"level\"] = xr.DataArray(levels, dims=[\"level\"], coords={\"level\": levels}, attrs={\"units\": \"hPa\"})"
   ]
  },
  {
   "cell_type": "code",
   "execution_count": 4,
   "id": "4",
   "metadata": {},
   "outputs": [
    {
     "name": "stdout",
     "output_type": "stream",
     "text": [
      "flipping lat\n"
     ]
    }
   ],
   "source": [
    "# make sure lat runs from south to north\n",
    "if not ds[\"lat\"].to_index().is_monotonic_increasing:\n",
    "    print(\"flipping lat\")\n",
    "    ds = ds.sortby(\"lat\", ascending=True)"
   ]
  },
  {
   "cell_type": "code",
   "execution_count": 5,
   "id": "5",
   "metadata": {},
   "outputs": [],
   "source": [
    "# make sure lon runs from west to east\n",
    "if not ds[\"lon\"].to_index().is_monotonic_increasing:\n",
    "    print(\"flipping lon\")\n",
    "    ds = ds.sortby(\"lon\", ascending=True)"
   ]
  },
  {
   "cell_type": "code",
   "execution_count": 6,
   "id": "6",
   "metadata": {},
   "outputs": [],
   "source": [
    "# get a spatial subset 4°N–16°S, 50°–76°W\n",
    "ds = ds.sel(lat=slice(-16, 4), lon=slice(-76, -50))"
   ]
  },
  {
   "cell_type": "code",
   "execution_count": 7,
   "id": "7",
   "metadata": {},
   "outputs": [],
   "source": [
    "# make sure that the order of the dimensions is (lon, lat, ...) for all variables\n",
    "ds = ds.transpose(\"lon\", \"lat\", ...)"
   ]
  },
  {
   "cell_type": "code",
   "execution_count": 8,
   "id": "8",
   "metadata": {},
   "outputs": [],
   "source": [
    "# grab the first time step\n",
    "# should be Jan 1980\n",
    "ds = ds.isel(time=0, drop=True)"
   ]
  },
  {
   "cell_type": "code",
   "execution_count": 9,
   "id": "9",
   "metadata": {},
   "outputs": [],
   "source": [
    "import bulk_recycling_model.numerical_integration"
   ]
  },
  {
   "cell_type": "code",
   "execution_count": 10,
   "id": "10",
   "metadata": {},
   "outputs": [],
   "source": [
    "# Integrate 10^-3 Shum Uwnd dp\n",
    "# Because the integration limits are from high pressure to low pressure, we need to invert the sign.\n",
    "integrand = -1 * 1e-3 * ds[\"Shum\"] * ds[\"Uwnd\"]\n",
    "Fx = bulk_recycling_model.numerical_integration.integrate_no_extrapolation(integrand, ds[\"Psfc\"])\n",
    "# Units: mb x m/s"
   ]
  },
  {
   "cell_type": "code",
   "execution_count": 11,
   "id": "11",
   "metadata": {},
   "outputs": [],
   "source": [
    "# Integrate 10^-3 Shum Vwnd dp\n",
    "# Because the integration limits are from high pressure to low pressure, we need to invert the sign.\n",
    "integrand = -1 * 1e-3 * ds[\"Shum\"] * ds[\"Vwnd\"]\n",
    "Fy = bulk_recycling_model.numerical_integration.integrate_no_extrapolation(integrand, ds[\"Psfc\"])\n",
    "# Units: mb x m/s"
   ]
  },
  {
   "cell_type": "markdown",
   "id": "12",
   "metadata": {},
   "source": [
    "Prepare and scale the data"
   ]
  },
  {
   "cell_type": "code",
   "execution_count": 12,
   "id": "13",
   "metadata": {},
   "outputs": [
    {
     "ename": "ModuleNotFoundError",
     "evalue": "No module named 'bulk_recycling_model'",
     "output_type": "error",
     "traceback": [
      "\u001b[31m---------------------------------------------------------------------------\u001b[39m",
      "\u001b[31mModuleNotFoundError\u001b[39m                       Traceback (most recent call last)",
      "\u001b[36mCell\u001b[39m\u001b[36m \u001b[39m\u001b[32mIn[12]\u001b[39m\u001b[32m, line 1\u001b[39m\n\u001b[32m----> \u001b[39m\u001b[32m1\u001b[39m \u001b[38;5;28;01mfrom\u001b[39;00m\u001b[38;5;250m \u001b[39m\u001b[34;01mbulk_recycling_model\u001b[39;00m\u001b[38;5;250m \u001b[39m\u001b[38;5;28;01mimport\u001b[39;00m preprocess\n\u001b[32m      2\u001b[39m \u001b[38;5;28;01mfrom\u001b[39;00m\u001b[38;5;250m \u001b[39m\u001b[34;01mbulk_recycling_model\u001b[39;00m\u001b[34;01m.\u001b[39;00m\u001b[34;01maxis\u001b[39;00m\u001b[38;5;250m \u001b[39m\u001b[38;5;28;01mimport\u001b[39;00m Axis\n\u001b[32m      3\u001b[39m \u001b[38;5;28;01mfrom\u001b[39;00m\u001b[38;5;250m \u001b[39m\u001b[34;01mbulk_recycling_model\u001b[39;00m\u001b[34;01m.\u001b[39;00m\u001b[34;01mscaling\u001b[39;00m\u001b[38;5;250m \u001b[39m\u001b[38;5;28;01mimport\u001b[39;00m Scaling, UnitSystem\n",
      "\u001b[31mModuleNotFoundError\u001b[39m: No module named 'bulk_recycling_model'"
     ]
    }
   ],
   "source": [
    "from bulk_recycling_model import preprocess\n",
    "from bulk_recycling_model.axis import Axis\n",
    "from bulk_recycling_model.scaling import Scaling, UnitSystem"
   ]
  },
  {
   "cell_type": "markdown",
   "id": "0bc9cd93",
   "metadata": {},
   "source": []
  },
  {
   "cell_type": "code",
   "execution_count": null,
   "id": "14",
   "metadata": {},
   "outputs": [],
   "source": [
    "# degrees\n",
    "L = ds.coords[\"lon\"].max().item() - ds.coords[\"lon\"].min().item()\n",
    "# convert to meters\n",
    "L = L * 111e3 * np.cos(np.deg2rad(ds.coords[\"lat\"].mean().item()))\n",
    "dx = L / ds.sizes[\"lon\"]"
   ]
  },
  {
   "cell_type": "code",
   "execution_count": null,
   "id": "15",
   "metadata": {},
   "outputs": [],
   "source": [
    "# lon axis\n",
    "lon_axis = Axis(\n",
    "    ds.coords[\"lon\"].min().item(),\n",
    "    ds.coords[\"lon\"].diff(\"lon\").mean().item(),\n",
    "    ds.sizes[\"lon\"],\n",
    ")"
   ]
  },
  {
   "cell_type": "code",
   "execution_count": null,
   "id": "16",
   "metadata": {},
   "outputs": [],
   "source": [
    "# degrees\n",
    "H = ds.coords[\"lat\"].values[-1] - ds.coords[\"lat\"].values[0]\n",
    "# convert to meters\n",
    "H = H * 111e3\n",
    "dy = H / ds.sizes[\"lat\"]"
   ]
  },
  {
   "cell_type": "code",
   "execution_count": null,
   "id": "17",
   "metadata": {},
   "outputs": [],
   "source": [
    "# lat axis\n",
    "lat_axis = Axis(\n",
    "    ds.coords[\"lat\"].min().item(),\n",
    "    ds.coords[\"lat\"].diff(\"lat\").mean().item(),\n",
    "    ds.sizes[\"lat\"],\n",
    ")"
   ]
  },
  {
   "cell_type": "code",
   "execution_count": null,
   "id": "18",
   "metadata": {},
   "outputs": [],
   "source": [
    "print(f\"{L = :.2e} m\")\n",
    "print(f\"{dx = :.2e} m\")\n",
    "print(f\"{H = :.2e} m\")\n",
    "print(f\"{dy = :.2e} m\")"
   ]
  },
  {
   "cell_type": "code",
   "execution_count": null,
   "id": "19",
   "metadata": {},
   "outputs": [],
   "source": [
    "# make a scaling object to convert between unit systems\n",
    "scaling = Scaling(H)"
   ]
  },
  {
   "cell_type": "code",
   "execution_count": null,
   "id": "20",
   "metadata": {},
   "outputs": [],
   "source": [
    "dx = scaling.distance.convert(dx, UnitSystem.SI, UnitSystem.scaled)\n",
    "dy = scaling.distance.convert(dy, UnitSystem.SI, UnitSystem.scaled)\n",
    "print(f\"{dx = :.2e} scaled\")\n",
    "print(f\"{dy = :.2e} scaled\")"
   ]
  },
  {
   "cell_type": "code",
   "execution_count": null,
   "id": "21",
   "metadata": {},
   "outputs": [],
   "source": [
    "# convert Fx and Fy to scaled units\n",
    "Fx = scaling.water_vapor_flux.convert(Fx.values, UnitSystem.natural, UnitSystem.scaled)\n",
    "Fy = scaling.water_vapor_flux.convert(Fy.values, UnitSystem.natural, UnitSystem.scaled)"
   ]
  },
  {
   "cell_type": "code",
   "execution_count": null,
   "id": "22",
   "metadata": {},
   "outputs": [],
   "source": [
    "# preprocess water vapor fluxes onto the secondary grid\n",
    "Fx_left = preprocess.prepare_Fx_left(Fx)\n",
    "Fx_right = preprocess.prepare_Fx_right(Fx)\n",
    "Fy_bottom = preprocess.prepare_Fy_bottom(Fy)\n",
    "Fy_top = preprocess.prepare_Fy_top(Fy)"
   ]
  },
  {
   "cell_type": "code",
   "execution_count": null,
   "id": "23",
   "metadata": {},
   "outputs": [],
   "source": [
    "# convert E to scaled units\n",
    "E = scaling.evaporation.convert(ds[\"Evap\"].values, UnitSystem.natural, UnitSystem.scaled)"
   ]
  },
  {
   "cell_type": "code",
   "execution_count": null,
   "id": "24",
   "metadata": {},
   "outputs": [],
   "source": [
    "# preprocess E onto the secondary grid\n",
    "E = preprocess.prepare_E(E)"
   ]
  },
  {
   "cell_type": "code",
   "execution_count": null,
   "id": "25",
   "metadata": {},
   "outputs": [],
   "source": [
    "# compute P\n",
    "P = preprocess.calculate_precipitation(Fx_left, Fx_right, Fy_bottom, Fy_top, E, dx, dy)"
   ]
  },
  {
   "cell_type": "markdown",
   "id": "26",
   "metadata": {},
   "source": [
    "Run the model"
   ]
  },
  {
   "cell_type": "code",
   "execution_count": null,
   "id": "27",
   "metadata": {},
   "outputs": [],
   "source": [
    "import matplotlib.pyplot as plt"
   ]
  },
  {
   "cell_type": "code",
   "execution_count": null,
   "id": "28",
   "metadata": {},
   "outputs": [],
   "source": [
    "import logging\n",
    "\n",
    "logging.basicConfig()\n",
    "logging.getLogger(\"bulk_recycling_model\").setLevel(logging.INFO)"
   ]
  },
  {
   "cell_type": "code",
   "execution_count": null,
   "id": "29",
   "metadata": {},
   "outputs": [],
   "source": [
    "from bulk_recycling_model import plotting\n",
    "from bulk_recycling_model.main import run"
   ]
  },
  {
   "cell_type": "code",
   "execution_count": null,
   "id": "30",
   "metadata": {},
   "outputs": [],
   "source": [
    "class Callback:\n",
    "    def __init__(self):\n",
    "        self.n_calls = 0  # number of times callback has executed\n",
    "\n",
    "    def __call__(self, rho: np.ndarray, k: int):\n",
    "        fig, ax = plt.subplots()\n",
    "        collection = plotting.pcolormesh(ax, rho, lon_axis, lat_axis, vmin=0.0, vmax=0.8)\n",
    "        fig.colorbar(collection)\n",
    "        fig.suptitle(f\"$\\\\rho^k$ @ k={k:04d}\")\n",
    "        plt.savefig(f\"plots/{self.n_calls:05d}_{k:04d}.png\")\n",
    "        plt.close(fig)\n",
    "        self.n_calls += 1"
   ]
  },
  {
   "cell_type": "code",
   "execution_count": null,
   "id": "31",
   "metadata": {},
   "outputs": [],
   "source": [
    "! rm plots/*.png"
   ]
  },
  {
   "cell_type": "code",
   "execution_count": null,
   "id": "32",
   "metadata": {},
   "outputs": [],
   "source": [
    "status = run(\n",
    "    Fx_left,\n",
    "    Fx_right,\n",
    "    Fy_bottom,\n",
    "    Fy_top,\n",
    "    E,\n",
    "    P,\n",
    "    dx,\n",
    "    dy,\n",
    "    tol=1e-2,\n",
    "    callback=Callback(),\n",
    ")\n",
    "assert status[\"success\"]"
   ]
  },
  {
   "cell_type": "markdown",
   "id": "33",
   "metadata": {},
   "source": [
    "Animate the plots using ffmpeg\n",
    "\n",
    "```bash\n",
    "ffmpeg -framerate 30 -pattern_type glob -i \"*.png\" -vf \"tpad=stop_mode=clone:stop_duration=3\" -c:v libx264 -pix_fmt yuv420p mov.mp4\n",
    "```"
   ]
  },
  {
   "cell_type": "code",
   "execution_count": null,
   "id": "34",
   "metadata": {},
   "outputs": [],
   "source": [
    "# plot the final solution\n",
    "rho = status[\"rho\"]\n",
    "fig, ax = plt.subplots()\n",
    "collection = plotting.pcolormesh(ax, rho, lon_axis, lat_axis, vmin=0.0, vmax=0.8)\n",
    "fig.colorbar(collection)\n",
    "fig.suptitle(\"$\\\\rho$\")"
   ]
  },
  {
   "cell_type": "code",
   "execution_count": null,
   "id": "35",
   "metadata": {},
   "outputs": [],
   "source": [
    "# plot the convergence\n",
    "deltas = status[\"deltas\"]\n",
    "fig, ax = plt.subplots()\n",
    "ax.plot(deltas)\n",
    "ax.set_title(\"Convergence\")\n",
    "ax.set_xlabel(\"Iteration\")"
   ]
  },
  {
   "cell_type": "code",
   "execution_count": null,
   "id": "36",
   "metadata": {},
   "outputs": [],
   "source": []
  }
 ],
 "metadata": {
  "kernelspec": {
   "display_name": "f4r-bulk-recycling-model",
   "language": "python",
   "name": "python3"
  },
  "language_info": {
   "codemirror_mode": {
    "name": "ipython",
    "version": 3
   },
   "file_extension": ".py",
   "mimetype": "text/x-python",
   "name": "python",
   "nbconvert_exporter": "python",
   "pygments_lexer": "ipython3",
   "version": "3.13.5"
  }
 },
 "nbformat": 4,
 "nbformat_minor": 5
}
