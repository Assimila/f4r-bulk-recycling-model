{
 "cells": [
  {
   "cell_type": "markdown",
   "id": "0",
   "metadata": {},
   "source": [
    "Extract data from a DAO NetCDF file"
   ]
  },
  {
   "cell_type": "code",
   "execution_count": 65,
   "id": "1",
   "metadata": {},
   "outputs": [],
   "source": [
    "import numpy as np\n",
    "import xarray as xr"
   ]
  },
  {
   "cell_type": "code",
   "execution_count": 66,
   "id": "2",
   "metadata": {},
   "outputs": [],
   "source": [
    "ds = xr.open_dataset(\"/Users/ellendyer/Library/Mobile Documents/com~apple~CloudDocs/1SHARED_WORK/Work/3_ESA_GRANT/MODEL/data/dao.80_93.nc\")"
   ]
  },
  {
   "cell_type": "code",
   "execution_count": 67,
   "id": "3",
   "metadata": {},
   "outputs": [
    {
     "name": "stdout",
     "output_type": "stream",
     "text": [
      "Fixing broken pressure level data\n"
     ]
    }
   ],
   "source": [
    "if ds.coords[\"level\"].isnull().all():\n",
    "    print(\"Fixing broken pressure level data\")\n",
    "    levels = [1000.0, 950.0, 900.0, 850.0, 700.0, 500.0, 300.0, 200.0]\n",
    "    ds.coords[\"level\"] = xr.DataArray(levels, dims=[\"level\"], coords={\"level\": levels}, attrs={\"units\": \"hPa\"})"
   ]
  },
  {
   "cell_type": "code",
   "execution_count": 68,
   "id": "4",
   "metadata": {},
   "outputs": [
    {
     "name": "stdout",
     "output_type": "stream",
     "text": [
      "flipping lat\n"
     ]
    }
   ],
   "source": [
    "# make sure lat runs from south to north\n",
    "if not ds[\"lat\"].to_index().is_monotonic_increasing:\n",
    "    print(\"flipping lat\")\n",
    "    ds = ds.sortby(\"lat\", ascending=True)"
   ]
  },
  {
   "cell_type": "code",
   "execution_count": 69,
   "id": "5",
   "metadata": {},
   "outputs": [],
   "source": [
    "# make sure lon runs from west to east\n",
    "if not ds[\"lon\"].to_index().is_monotonic_increasing:\n",
    "    print(\"flipping lon\")\n",
    "    ds = ds.sortby(\"lon\", ascending=True)"
   ]
  },
  {
   "cell_type": "code",
   "execution_count": 70,
   "id": "6",
   "metadata": {},
   "outputs": [],
   "source": [
    "# get a spatial subset 4°N–16°S, 50°–76°W\n",
    "ds = ds.sel(lat=slice(-16, 4), lon=slice(-76, -50))"
   ]
  },
  {
   "cell_type": "code",
   "execution_count": 71,
   "id": "7",
   "metadata": {},
   "outputs": [],
   "source": [
    "# make sure that the order of the dimensions is (lon, lat, ...) for all variables\n",
    "ds = ds.transpose(\"lon\", \"lat\", ...)"
   ]
  },
  {
   "cell_type": "code",
   "execution_count": 72,
   "id": "8",
   "metadata": {},
   "outputs": [],
   "source": [
    "# grab the first time step\n",
    "# should be Jan 1980\n",
    "ds = ds.isel(time=0, drop=True)"
   ]
  },
  {
   "cell_type": "code",
   "execution_count": 73,
   "id": "9",
   "metadata": {},
   "outputs": [],
   "source": [
    "import bulk_recycling_model.numerical_integration"
   ]
  },
  {
   "cell_type": "code",
   "execution_count": 74,
   "id": "10",
   "metadata": {},
   "outputs": [],
   "source": [
    "# Integrate 10^-3 Shum Uwnd dp\n",
    "# Because the integration limits are from high pressure to low pressure, we need to invert the sign.\n",
    "integrand = -1 * 1e-3 * ds[\"Shum\"] * ds[\"Uwnd\"]\n",
    "Fx = bulk_recycling_model.numerical_integration.integrate_no_extrapolation(integrand, ds[\"Psfc\"])\n",
    "# Units: mb x m/s"
   ]
  },
  {
   "cell_type": "code",
   "execution_count": 75,
   "id": "11",
   "metadata": {},
   "outputs": [],
   "source": [
    "# Integrate 10^-3 Shum Vwnd dp\n",
    "# Because the integration limits are from high pressure to low pressure, we need to invert the sign.\n",
    "integrand = -1 * 1e-3 * ds[\"Shum\"] * ds[\"Vwnd\"]\n",
    "Fy = bulk_recycling_model.numerical_integration.integrate_no_extrapolation(integrand, ds[\"Psfc\"])\n",
    "# Units: mb x m/s"
   ]
  },
  {
   "cell_type": "markdown",
   "id": "12",
   "metadata": {},
   "source": [
    "Prepare and scale the data"
   ]
  },
  {
   "cell_type": "code",
   "execution_count": 76,
   "id": "13",
   "metadata": {},
   "outputs": [],
   "source": [
    "from bulk_recycling_model import preprocess\n",
    "from bulk_recycling_model.axis import Axis\n",
    "from bulk_recycling_model.scaling import Scaling, UnitSystem"
   ]
  },
  {
   "cell_type": "markdown",
   "id": "0bc9cd93",
   "metadata": {},
   "source": []
  },
  {
   "cell_type": "code",
   "execution_count": 77,
   "id": "14",
   "metadata": {},
   "outputs": [],
   "source": [
    "# degrees\n",
    "L = ds.coords[\"lon\"].max().item() - ds.coords[\"lon\"].min().item()\n",
    "# convert to meters\n",
    "L = L * 111e3 * np.cos(np.deg2rad(ds.coords[\"lat\"].mean().item()))\n",
    "dx = L / ds.sizes[\"lon\"]"
   ]
  },
  {
   "cell_type": "code",
   "execution_count": 78,
   "id": "15",
   "metadata": {},
   "outputs": [],
   "source": [
    "# lon axis\n",
    "lon_axis = Axis(\n",
    "    ds.coords[\"lon\"].min().item(),\n",
    "    ds.coords[\"lon\"].diff(\"lon\").mean().item(),\n",
    "    ds.sizes[\"lon\"],\n",
    ")"
   ]
  },
  {
   "cell_type": "code",
   "execution_count": 79,
   "id": "16",
   "metadata": {},
   "outputs": [],
   "source": [
    "# degrees\n",
    "H = ds.coords[\"lat\"].values[-1] - ds.coords[\"lat\"].values[0]\n",
    "# convert to meters\n",
    "H = H * 111e3\n",
    "dy = H / ds.sizes[\"lat\"]"
   ]
  },
  {
   "cell_type": "code",
   "execution_count": 80,
   "id": "17",
   "metadata": {},
   "outputs": [],
   "source": [
    "# lat axis\n",
    "lat_axis = Axis(\n",
    "    ds.coords[\"lat\"].min().item(),\n",
    "    ds.coords[\"lat\"].diff(\"lat\").mean().item(),\n",
    "    ds.sizes[\"lat\"],\n",
    ")"
   ]
  },
  {
   "cell_type": "code",
   "execution_count": 81,
   "id": "18",
   "metadata": {},
   "outputs": [
    {
     "name": "stdout",
     "output_type": "stream",
     "text": [
      "L = 2.87e+06 m\n",
      "dx = 2.05e+05 m\n",
      "H = 2.22e+06 m\n",
      "dy = 2.02e+05 m\n"
     ]
    }
   ],
   "source": [
    "print(f\"{L = :.2e} m\")\n",
    "print(f\"{dx = :.2e} m\")\n",
    "print(f\"{H = :.2e} m\")\n",
    "print(f\"{dy = :.2e} m\")"
   ]
  },
  {
   "cell_type": "code",
   "execution_count": 82,
   "id": "19",
   "metadata": {},
   "outputs": [],
   "source": [
    "# make a scaling object to convert between unit systems\n",
    "scaling = Scaling(H)"
   ]
  },
  {
   "cell_type": "code",
   "execution_count": 83,
   "id": "20",
   "metadata": {},
   "outputs": [
    {
     "name": "stdout",
     "output_type": "stream",
     "text": [
      "dx = 9.23e-02 scaled\n",
      "dy = 9.09e-02 scaled\n"
     ]
    }
   ],
   "source": [
    "dx = scaling.distance.convert(dx, UnitSystem.SI, UnitSystem.scaled)\n",
    "dy = scaling.distance.convert(dy, UnitSystem.SI, UnitSystem.scaled)\n",
    "print(f\"{dx = :.2e} scaled\")\n",
    "print(f\"{dy = :.2e} scaled\")"
   ]
  },
  {
   "cell_type": "code",
   "execution_count": 84,
   "id": "21",
   "metadata": {},
   "outputs": [],
   "source": [
    "# convert Fx and Fy to scaled units\n",
    "Fx = scaling.water_vapor_flux.convert(Fx.values, UnitSystem.natural, UnitSystem.scaled)\n",
    "Fy = scaling.water_vapor_flux.convert(Fy.values, UnitSystem.natural, UnitSystem.scaled)"
   ]
  },
  {
   "cell_type": "code",
   "execution_count": 85,
   "id": "22",
   "metadata": {},
   "outputs": [],
   "source": [
    "# preprocess water vapor fluxes onto the secondary grid\n",
    "Fx_left = preprocess.prepare_Fx_left(Fx)\n",
    "Fx_right = preprocess.prepare_Fx_right(Fx)\n",
    "Fy_bottom = preprocess.prepare_Fy_bottom(Fy)\n",
    "Fy_top = preprocess.prepare_Fy_top(Fy)"
   ]
  },
  {
   "cell_type": "code",
   "execution_count": 86,
   "id": "23",
   "metadata": {},
   "outputs": [],
   "source": [
    "# convert E to scaled units\n",
    "E = scaling.evaporation.convert(ds[\"Evap\"].values, UnitSystem.natural, UnitSystem.scaled)"
   ]
  },
  {
   "cell_type": "code",
   "execution_count": 87,
   "id": "24",
   "metadata": {},
   "outputs": [],
   "source": [
    "# preprocess E onto the secondary grid\n",
    "E = preprocess.prepare_E(E)"
   ]
  },
  {
   "cell_type": "code",
   "execution_count": 88,
   "id": "25",
   "metadata": {},
   "outputs": [],
   "source": [
    "# compute P\n",
    "P = preprocess.calculate_precipitation(Fx_left, Fx_right, Fy_bottom, Fy_top, E, dx, dy)"
   ]
  },
  {
   "cell_type": "markdown",
   "id": "26",
   "metadata": {},
   "source": [
    "Run the model"
   ]
  },
  {
   "cell_type": "code",
   "execution_count": 89,
   "id": "27",
   "metadata": {},
   "outputs": [],
   "source": [
    "import matplotlib.pyplot as plt"
   ]
  },
  {
   "cell_type": "code",
   "execution_count": 90,
   "id": "28",
   "metadata": {},
   "outputs": [],
   "source": [
    "import logging\n",
    "\n",
    "logging.basicConfig()\n",
    "logging.getLogger(\"bulk_recycling_model\").setLevel(logging.INFO)"
   ]
  },
  {
   "cell_type": "code",
   "execution_count": 91,
   "id": "29",
   "metadata": {},
   "outputs": [],
   "source": [
    "from bulk_recycling_model import plotting\n",
    "from bulk_recycling_model.main import run"
   ]
  },
  {
   "cell_type": "code",
   "execution_count": 92,
   "id": "30",
   "metadata": {},
   "outputs": [],
   "source": [
    "class Callback:\n",
    "    def __init__(self):\n",
    "        self.n_calls = 0  # number of times callback has executed\n",
    "\n",
    "    def __call__(self, rho: np.ndarray, k: int):\n",
    "        fig, ax = plt.subplots()\n",
    "        collection = plotting.pcolormesh(ax, rho, lon_axis, lat_axis, vmin=0.0, vmax=0.8)\n",
    "        fig.colorbar(collection)\n",
    "        fig.suptitle(f\"$\\\\rho^k$ @ k={k:04d}\")\n",
    "        plt.savefig(f\"plots/{self.n_calls:05d}_{k:04d}.png\")\n",
    "        plt.close(fig)\n",
    "        self.n_calls += 1"
   ]
  },
  {
   "cell_type": "code",
   "execution_count": 93,
   "id": "31",
   "metadata": {},
   "outputs": [
    {
     "name": "stdout",
     "output_type": "stream",
     "text": [
      "zsh:1: no matches found: plots/*.png\n"
     ]
    }
   ],
   "source": [
    "! rm plots/*.png"
   ]
  },
  {
   "cell_type": "code",
   "execution_count": 94,
   "id": "32",
   "metadata": {},
   "outputs": [
    {
     "name": "stderr",
     "output_type": "stream",
     "text": [
      "INFO:bulk_recycling_model.main:Iteration 1 of 1000. Finished in 0.000742 seconds\n",
      "INFO:bulk_recycling_model.main:Iteration 1 of 1000. delta = 0.09379119784633923\n",
      "INFO:bulk_recycling_model.main:Iteration 2 of 1000. Finished in 0.000448 seconds\n",
      "INFO:bulk_recycling_model.main:Iteration 2 of 1000. delta = 0.0864831046342787\n",
      "INFO:bulk_recycling_model.main:Iteration 3 of 1000. Finished in 0.000474 seconds\n",
      "INFO:bulk_recycling_model.main:Iteration 3 of 1000. delta = 0.07894973491983193\n",
      "INFO:bulk_recycling_model.main:Iteration 4 of 1000. Finished in 0.000465 seconds\n",
      "INFO:bulk_recycling_model.main:Iteration 4 of 1000. delta = 0.07143267110843127\n",
      "INFO:bulk_recycling_model.main:Iteration 5 of 1000. Finished in 0.000466 seconds\n",
      "INFO:bulk_recycling_model.main:Iteration 5 of 1000. delta = 0.06411291545204018\n",
      "INFO:bulk_recycling_model.main:Iteration 6 of 1000. Finished in 0.000466 seconds\n",
      "INFO:bulk_recycling_model.main:Iteration 6 of 1000. delta = 0.057121522094402744\n",
      "INFO:bulk_recycling_model.main:Iteration 7 of 1000. Finished in 0.000454 seconds\n",
      "INFO:bulk_recycling_model.main:Iteration 7 of 1000. delta = 0.050549150333920656\n",
      "INFO:bulk_recycling_model.main:Iteration 8 of 1000. Finished in 0.000447 seconds\n",
      "INFO:bulk_recycling_model.main:Iteration 8 of 1000. delta = 0.045055192114928366\n",
      "INFO:bulk_recycling_model.main:Iteration 9 of 1000. Finished in 0.000454 seconds\n",
      "INFO:bulk_recycling_model.main:Iteration 9 of 1000. delta = 0.04103577714886403\n",
      "INFO:bulk_recycling_model.main:Iteration 10 of 1000. Finished in 0.000499 seconds\n",
      "INFO:bulk_recycling_model.main:Iteration 10 of 1000. delta = 0.03710313036743734\n",
      "INFO:bulk_recycling_model.main:Iteration 11 of 1000. Finished in 0.00048 seconds\n",
      "INFO:bulk_recycling_model.main:Iteration 11 of 1000. delta = 0.034566447754162566\n",
      "INFO:bulk_recycling_model.main:Iteration 12 of 1000. Finished in 0.000458 seconds\n",
      "INFO:bulk_recycling_model.main:Iteration 12 of 1000. delta = 0.03177324766015177\n",
      "INFO:bulk_recycling_model.main:Iteration 13 of 1000. Finished in 0.000454 seconds\n",
      "INFO:bulk_recycling_model.main:Iteration 13 of 1000. delta = 0.02881437923662694\n",
      "INFO:bulk_recycling_model.main:Iteration 14 of 1000. Finished in 0.000454 seconds\n",
      "INFO:bulk_recycling_model.main:Iteration 14 of 1000. delta = 0.027437252728659545\n",
      "INFO:bulk_recycling_model.main:Iteration 15 of 1000. Finished in 0.000452 seconds\n",
      "INFO:bulk_recycling_model.main:Iteration 15 of 1000. delta = 0.026275636792753965\n",
      "INFO:bulk_recycling_model.main:Iteration 16 of 1000. Finished in 0.000448 seconds\n",
      "INFO:bulk_recycling_model.main:Iteration 16 of 1000. delta = 0.024974426110663528\n",
      "INFO:bulk_recycling_model.main:Iteration 17 of 1000. Finished in 0.000455 seconds\n",
      "INFO:bulk_recycling_model.main:Iteration 17 of 1000. delta = 0.023539685419319556\n",
      "INFO:bulk_recycling_model.main:Iteration 18 of 1000. Finished in 0.000459 seconds\n",
      "INFO:bulk_recycling_model.main:Iteration 18 of 1000. delta = 0.021989158287556654\n",
      "INFO:bulk_recycling_model.main:Iteration 19 of 1000. Finished in 0.000462 seconds\n",
      "INFO:bulk_recycling_model.main:Iteration 19 of 1000. delta = 0.020351457378727678\n",
      "INFO:bulk_recycling_model.main:Iteration 20 of 1000. Finished in 0.000475 seconds\n",
      "INFO:bulk_recycling_model.main:Iteration 20 of 1000. delta = 0.018984686579662124\n",
      "INFO:bulk_recycling_model.main:Iteration 21 of 1000. Finished in 0.000457 seconds\n",
      "INFO:bulk_recycling_model.main:Iteration 21 of 1000. delta = 0.01787036690410615\n",
      "INFO:bulk_recycling_model.main:Iteration 22 of 1000. Finished in 0.000451 seconds\n",
      "INFO:bulk_recycling_model.main:Iteration 22 of 1000. delta = 0.016728980537033755\n",
      "INFO:bulk_recycling_model.main:Iteration 23 of 1000. Finished in 0.000463 seconds\n",
      "INFO:bulk_recycling_model.main:Iteration 23 of 1000. delta = 0.015551829812285312\n",
      "INFO:bulk_recycling_model.main:Iteration 24 of 1000. Finished in 0.000455 seconds\n",
      "INFO:bulk_recycling_model.main:Iteration 24 of 1000. delta = 0.014341011051644537\n",
      "INFO:bulk_recycling_model.main:Iteration 25 of 1000. Finished in 0.000451 seconds\n",
      "INFO:bulk_recycling_model.main:Iteration 25 of 1000. delta = 0.01310906458994432\n",
      "INFO:bulk_recycling_model.main:Iteration 26 of 1000. Finished in 0.000445 seconds\n",
      "INFO:bulk_recycling_model.main:Iteration 26 of 1000. delta = 0.01209609228213826\n",
      "INFO:bulk_recycling_model.main:Iteration 27 of 1000. Finished in 0.000463 seconds\n",
      "INFO:bulk_recycling_model.main:Iteration 27 of 1000. delta = 0.011273467565411921\n",
      "INFO:bulk_recycling_model.main:Iteration 28 of 1000. Finished in 0.000451 seconds\n",
      "INFO:bulk_recycling_model.main:Iteration 28 of 1000. delta = 0.010688417461504451\n",
      "INFO:bulk_recycling_model.main:Iteration 29 of 1000. Finished in 0.000474 seconds\n",
      "INFO:bulk_recycling_model.main:Iteration 29 of 1000. delta = 0.01049019147966157\n",
      "INFO:bulk_recycling_model.main:Iteration 30 of 1000. Finished in 0.000495 seconds\n",
      "INFO:bulk_recycling_model.main:Iteration 30 of 1000. delta = 0.010258954795612674\n",
      "INFO:bulk_recycling_model.main:Iteration 31 of 1000. Finished in 0.000446 seconds\n",
      "INFO:bulk_recycling_model.main:Iteration 31 of 1000. delta = 0.009953693593781399\n",
      "INFO:bulk_recycling_model.main:Converged in 31 iterations and 0:00:00.030559\n"
     ]
    }
   ],
   "source": [
    "status = run(\n",
    "    Fx_left,\n",
    "    Fx_right,\n",
    "    Fy_bottom,\n",
    "    Fy_top,\n",
    "    E,\n",
    "    P,\n",
    "    dx,\n",
    "    dy,\n",
    "    tol=1e-2,\n",
    "    #callback=Callback(),\n",
    ")\n",
    "assert status[\"success\"]"
   ]
  },
  {
   "cell_type": "markdown",
   "id": "33",
   "metadata": {},
   "source": [
    "Animate the plots using ffmpeg\n",
    "\n",
    "```bash\n",
    "ffmpeg -framerate 30 -pattern_type glob -i \"*.png\" -vf \"tpad=stop_mode=clone:stop_duration=3\" -c:v libx264 -pix_fmt yuv420p mov.mp4\n",
    "```"
   ]
  },
  {
   "cell_type": "code",
   "execution_count": 95,
   "id": "34",
   "metadata": {},
   "outputs": [
    {
     "data": {
      "text/plain": [
       "Text(0.5, 0.98, '$\\\\rho$')"
      ]
     },
     "execution_count": 95,
     "metadata": {},
     "output_type": "execute_result"
    },
    {
     "data": {
      "image/png": "[encoded data removed]",
      "text/plain": [
       "<Figure size 640x480 with 2 Axes>"
      ]
     },
     "metadata": {},
     "output_type": "display_data"
    }
   ],
   "source": [
    "# plot the final solution\n",
    "rho = status[\"rho\"]\n",
    "fig, ax = plt.subplots()\n",
    "collection = plotting.pcolormesh(ax, rho, lon_axis, lat_axis, vmin=0.0, vmax=0.8)\n",
    "fig.colorbar(collection)\n",
    "fig.suptitle(\"$\\\\rho$\")"
   ]
  },
  {
   "cell_type": "code",
   "execution_count": 96,
   "id": "35",
   "metadata": {},
   "outputs": [
    {
     "data": {
      "text/plain": [
       "Text(0.5, 0, 'Iteration')"
      ]
     },
     "execution_count": 96,
     "metadata": {},
     "output_type": "execute_result"
    },
    {
     "data": {
      "image/png": "[encoded data removed]",
      "text/plain": [
       "<Figure size 640x480 with 1 Axes>"
      ]
     },
     "metadata": {},
     "output_type": "display_data"
    }
   ],
   "source": [
    "# plot the convergence\n",
    "deltas = status[\"deltas\"]\n",
    "fig, ax = plt.subplots()\n",
    "ax.plot(deltas)\n",
    "ax.set_title(\"Convergence\")\n",
    "ax.set_xlabel(\"Iteration\")"
   ]
  },
  {
   "cell_type": "code",
   "execution_count": null,
   "id": "36",
   "metadata": {},
   "outputs": [],
   "source": []
  }
 ],
 "metadata": {
  "kernelspec": {
   "display_name": "f4r-bulk-recycling-model",
   "language": "python",
   "name": "python3"
  },
  "language_info": {
   "codemirror_mode": {
    "name": "ipython",
    "version": 3
   },
   "file_extension": ".py",
   "mimetype": "text/x-python",
   "name": "python",
   "nbconvert_exporter": "python",
   "pygments_lexer": "ipython3",
   "version": "3.13.5"
  }
 },
 "nbformat": 4,
 "nbformat_minor": 5
}
