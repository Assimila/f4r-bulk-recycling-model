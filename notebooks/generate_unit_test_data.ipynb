{
 "cells": [
  {
   "cell_type": "markdown",
   "id": "0",
   "metadata": {},
   "source": [
    "Extract test data from a DAO NetCDF file"
   ]
  },
  {
   "cell_type": "code",
   "execution_count": null,
   "id": "1",
   "metadata": {},
   "outputs": [],
   "source": [
    "import numpy as np\n",
    "import xarray as xr"
   ]
  },
  {
   "cell_type": "code",
   "execution_count": null,
   "id": "2",
   "metadata": {},
   "outputs": [],
   "source": [
    "ds = xr.open_dataset(\"dao.80_93.nc\")"
   ]
  },
  {
   "cell_type": "code",
   "execution_count": null,
   "id": "3",
   "metadata": {},
   "outputs": [],
   "source": [
    "if ds.coords[\"level\"].isnull().all():\n",
    "    print(\"Fixing broken pressure level data\")\n",
    "    levels = [1000., 950., 900.,850., 700., 500., 300., 200.]\n",
    "    ds.coords[\"level\"] = xr.DataArray(\n",
    "        levels, dims=[\"level\"], coords={\"level\": levels}, attrs={\"units\": \"hPa\"}\n",
    "    )"
   ]
  },
  {
   "cell_type": "code",
   "execution_count": null,
   "id": "4",
   "metadata": {},
   "outputs": [],
   "source": [
    "# make sure lat runs from south to north\n",
    "if not ds['lat'].to_index().is_monotonic_increasing:\n",
    "    print(\"flipping lat\")\n",
    "    ds = ds.sortby(\"lat\", ascending=True)"
   ]
  },
  {
   "cell_type": "code",
   "execution_count": null,
   "id": "5",
   "metadata": {},
   "outputs": [],
   "source": [
    "# make sure lon runs from west to east\n",
    "if not ds['lon'].to_index().is_monotonic_increasing:\n",
    "    print(\"flipping lon\")\n",
    "    ds = ds.sortby(\"lon\", ascending=True)"
   ]
  },
  {
   "cell_type": "code",
   "execution_count": null,
   "id": "6",
   "metadata": {},
   "outputs": [],
   "source": [
    "# get a spatial subset 4°N–16°S, 50°–76°W\n",
    "ds = ds.sel(lat=slice(-16, 4), lon=slice(-76, -50))"
   ]
  },
  {
   "cell_type": "code",
   "execution_count": null,
   "id": "7",
   "metadata": {},
   "outputs": [],
   "source": [
    "# make sure that the order of the dimensions is (lon, lat, ...) for all variables\n",
    "ds = ds.transpose(\"lon\", \"lat\", ...)"
   ]
  },
  {
   "cell_type": "code",
   "execution_count": null,
   "id": "8",
   "metadata": {},
   "outputs": [],
   "source": [
    "# grab the first time step\n",
    "# should be Jan 1980\n",
    "ds = ds.isel(time=0, drop=True)"
   ]
  },
  {
   "cell_type": "code",
   "execution_count": null,
   "id": "9",
   "metadata": {},
   "outputs": [],
   "source": [
    "def nan_trapz(a: np.ndarray, x: np.ndarray):\n",
    "    mask = ~np.isnan(a)  # real values\n",
    "    return np.trapezoid(y = a[mask], x = x[mask])\n",
    "\n",
    "def integrator(a: np.ndarray, axis: int, x: np.ndarray) -> np.ndarray:\n",
    "    \"\"\"\n",
    "    Apply the trapezium rule for 1D integration, dropping NaNs.\n",
    "\n",
    "    Integrate y dx,\n",
    "    where y is the dependent variable (given by an axis of a),\n",
    "    and x is the independent variable (sample_points).\n",
    "\n",
    "    Arguments:\n",
    "        a: ND array to integrate\n",
    "        axis: axis of a to integrate over\n",
    "        x: 1D array of sample points\n",
    "\n",
    "    Returns:\n",
    "        N-1 dimensional array\n",
    "    \"\"\"\n",
    "    return np.apply_along_axis(\n",
    "        func1d=nan_trapz,\n",
    "        axis=axis,\n",
    "        arr=a,\n",
    "        x=x,\n",
    "    )"
   ]
  },
  {
   "cell_type": "code",
   "execution_count": null,
   "id": "10",
   "metadata": {},
   "outputs": [],
   "source": [
    "# Integrate 10^-3 Shum Uwnd dp\n",
    "# The input dataset has NaNs where pressure levels correspond to heights below ground level.\n",
    "# Because the integration limits are from high pressure to low pressure, we need to invert the sign.\n",
    "da = -1 * 1e-3 * ds[\"Shum\"] * ds[\"Uwnd\"]\n",
    "Fx = da.reduce(integrator, dim=\"level\", x=ds.coords[\"level\"].values)\n",
    "# Units: mb x m/s"
   ]
  },
  {
   "cell_type": "code",
   "execution_count": null,
   "id": "11",
   "metadata": {},
   "outputs": [],
   "source": [
    "# Integrate 10^-3 Shum Vwnd dp\n",
    "# The input dataset has NaNs where pressure levels correspond to heights below ground level.\n",
    "# Because the integration limits are from high pressure to low pressure, we need to invert the sign.\n",
    "da = -1 * 1e-3 * ds[\"Shum\"] * ds[\"Vwnd\"]\n",
    "Fy = da.reduce(integrator, dim=\"level\", x=ds.coords[\"level\"].values)\n",
    "# Units: mb x m/s"
   ]
  },
  {
   "cell_type": "code",
   "execution_count": null,
   "id": "12",
   "metadata": {},
   "outputs": [],
   "source": [
    "# save to disk\n",
    "np.savez_compressed(\n",
    "    \"unit_test_data.npz\",\n",
    "    lat=ds[\"lat\"].values,\n",
    "    lon=ds[\"lon\"].values,\n",
    "    Fx=Fx.values,\n",
    "    Fy=Fy.values,\n",
    "    E=ds[\"Evap\"].values,\n",
    "    P=ds[\"Prec\"].values,\n",
    "    allow_pickle=False,\n",
    ")"
   ]
  },
  {
   "cell_type": "code",
   "execution_count": null,
   "id": "13",
   "metadata": {},
   "outputs": [],
   "source": []
  }
 ],
 "metadata": {
  "kernelspec": {
   "display_name": "f4r-bulk-recycling-model",
   "language": "python",
   "name": "python3"
  },
  "language_info": {
   "codemirror_mode": {
    "name": "ipython",
    "version": 3
   },
   "file_extension": ".py",
   "mimetype": "text/x-python",
   "name": "python",
   "nbconvert_exporter": "python",
   "pygments_lexer": "ipython3",
   "version": "3.13.3"
  }
 },
 "nbformat": 4,
 "nbformat_minor": 5
}
