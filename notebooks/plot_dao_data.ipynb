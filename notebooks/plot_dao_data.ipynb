{
 "cells": [
  {
   "cell_type": "markdown",
   "id": "0",
   "metadata": {},
   "source": [
    "Extract data from a DAO NetCDF file"
   ]
  },
  {
   "cell_type": "code",
   "execution_count": null,
   "id": "1",
   "metadata": {},
   "outputs": [],
   "source": [
    "import numpy as np\n",
    "import xarray as xr"
   ]
  },
  {
   "cell_type": "code",
   "execution_count": null,
   "id": "2",
   "metadata": {},
   "outputs": [],
   "source": [
    "ds = xr.open_dataset(\"dao.80_93.nc\")"
   ]
  },
  {
   "cell_type": "code",
   "execution_count": null,
   "id": "3",
   "metadata": {},
   "outputs": [],
   "source": [
    "if ds.coords[\"level\"].isnull().all():\n",
    "    print(\"Fixing broken pressure level data\")\n",
    "    levels = [1000.0, 950.0, 900.0, 850.0, 700.0, 500.0, 300.0, 200.0]\n",
    "    ds.coords[\"level\"] = xr.DataArray(levels, dims=[\"level\"], coords={\"level\": levels}, attrs={\"units\": \"hPa\"})"
   ]
  },
  {
   "cell_type": "code",
   "execution_count": null,
   "id": "4",
   "metadata": {},
   "outputs": [],
   "source": [
    "# make sure lat runs from south to north\n",
    "if not ds[\"lat\"].to_index().is_monotonic_increasing:\n",
    "    print(\"flipping lat\")\n",
    "    ds = ds.sortby(\"lat\", ascending=True)"
   ]
  },
  {
   "cell_type": "code",
   "execution_count": null,
   "id": "5",
   "metadata": {},
   "outputs": [],
   "source": [
    "# make sure lon runs from west to east\n",
    "if not ds[\"lon\"].to_index().is_monotonic_increasing:\n",
    "    print(\"flipping lon\")\n",
    "    ds = ds.sortby(\"lon\", ascending=True)"
   ]
  },
  {
   "cell_type": "code",
   "execution_count": null,
   "id": "6",
   "metadata": {},
   "outputs": [],
   "source": [
    "# get a spatial subset 4°N–16°S, 50°–76°W\n",
    "ds = ds.sel(lat=slice(-16, 4), lon=slice(-76, -50))"
   ]
  },
  {
   "cell_type": "code",
   "execution_count": null,
   "id": "7",
   "metadata": {},
   "outputs": [],
   "source": [
    "# make sure that the order of the dimensions is (lon, lat, ...) for all variables\n",
    "ds = ds.transpose(\"lon\", \"lat\", ...)"
   ]
  },
  {
   "cell_type": "code",
   "execution_count": null,
   "id": "8",
   "metadata": {},
   "outputs": [],
   "source": [
    "# grab the first time step\n",
    "# should be Jan 1980\n",
    "ds = ds.isel(time=0, drop=True)"
   ]
  },
  {
   "cell_type": "markdown",
   "id": "9",
   "metadata": {},
   "source": [
    "To integrate the column water vapor fluxes this notebook uses a basic method `integrate_no_extrapolation`.\n",
    "\n",
    "See below for a comparison between the DAO dataset precipitation (which is not used in the bulk recycling model) and modelled precipitation.\n",
    "\n",
    "An alternative method is `integrate_with_extrapolation`,\n",
    "which has been shown to produce modelled precipitation that has a slightly better agreement to the DAO dataset than `integrate_no_extrapolation`.\n",
    "The difference is small (~0.2 mm/day) compared to the RMSE of ~4.5 mm/day.\n",
    "\n",
    "If measurements of surface-level specific humidity and wind speeds are available, the method `integrate_with_surface_value` may offer an improvement."
   ]
  },
  {
   "cell_type": "code",
   "execution_count": null,
   "id": "10",
   "metadata": {},
   "outputs": [],
   "source": [
    "import bulk_recycling_model.numerical_integration"
   ]
  },
  {
   "cell_type": "code",
   "execution_count": null,
   "id": "11",
   "metadata": {},
   "outputs": [],
   "source": [
    "# Integrate 10^-3 Shum Uwnd dp\n",
    "# Because the integration limits are from high pressure to low pressure, we need to invert the sign.\n",
    "integrand = -1 * 1e-3 * ds[\"Shum\"] * ds[\"Uwnd\"]\n",
    "Fx = bulk_recycling_model.numerical_integration.integrate_no_extrapolation(integrand, ds[\"Psfc\"])\n",
    "# Units: mb x m/s"
   ]
  },
  {
   "cell_type": "code",
   "execution_count": null,
   "id": "12",
   "metadata": {},
   "outputs": [],
   "source": [
    "# Integrate 10^-3 Shum Vwnd dp\n",
    "# Because the integration limits are from high pressure to low pressure, we need to invert the sign.\n",
    "integrand = -1 * 1e-3 * ds[\"Shum\"] * ds[\"Vwnd\"]\n",
    "Fy = bulk_recycling_model.numerical_integration.integrate_no_extrapolation(integrand, ds[\"Psfc\"])\n",
    "# Units: mb x m/s"
   ]
  },
  {
   "cell_type": "markdown",
   "id": "13",
   "metadata": {},
   "source": [
    "some plots directly from xarray"
   ]
  },
  {
   "cell_type": "code",
   "execution_count": null,
   "id": "14",
   "metadata": {},
   "outputs": [],
   "source": [
    "ds[\"Evap\"].plot.pcolormesh(x=\"lon\", y=\"lat\")"
   ]
  },
  {
   "cell_type": "code",
   "execution_count": null,
   "id": "15",
   "metadata": {},
   "outputs": [],
   "source": [
    "ds[\"Prec\"].plot.pcolormesh(x=\"lon\", y=\"lat\")"
   ]
  },
  {
   "cell_type": "code",
   "execution_count": null,
   "id": "16",
   "metadata": {},
   "outputs": [],
   "source": [
    "xr.Dataset(\n",
    "    {\n",
    "        \"Fx\": Fx,\n",
    "        \"Fy\": Fy,\n",
    "    },\n",
    ").plot.quiver(\n",
    "    x=\"lon\",\n",
    "    y=\"lat\",\n",
    "    u=\"Fx\",\n",
    "    v=\"Fy\",\n",
    ")"
   ]
  },
  {
   "cell_type": "markdown",
   "id": "17",
   "metadata": {},
   "source": [
    "Prepare and scale the data"
   ]
  },
  {
   "cell_type": "code",
   "execution_count": null,
   "id": "18",
   "metadata": {},
   "outputs": [],
   "source": [
    "from bulk_recycling_model import preprocess\n",
    "from bulk_recycling_model.axis import Axis\n",
    "from bulk_recycling_model.scaling import Scaling, UnitSystem"
   ]
  },
  {
   "cell_type": "code",
   "execution_count": null,
   "id": "19",
   "metadata": {},
   "outputs": [],
   "source": [
    "# degrees\n",
    "L = ds.coords[\"lon\"].max().item() - ds.coords[\"lon\"].min().item()\n",
    "# convert to meters\n",
    "L = L * 111e3 * np.cos(np.deg2rad(ds.coords[\"lat\"].mean().item()))\n",
    "dx = L / ds.sizes[\"lon\"]"
   ]
  },
  {
   "cell_type": "code",
   "execution_count": null,
   "id": "20",
   "metadata": {},
   "outputs": [],
   "source": [
    "# lon axis\n",
    "lon_axis = Axis(\n",
    "    ds.coords[\"lon\"].min().item(),\n",
    "    ds.coords[\"lon\"].diff(\"lon\").mean().item(),\n",
    "    ds.sizes[\"lon\"],\n",
    ")"
   ]
  },
  {
   "cell_type": "code",
   "execution_count": null,
   "id": "21",
   "metadata": {},
   "outputs": [],
   "source": [
    "# degrees\n",
    "H = ds.coords[\"lat\"].values[-1] - ds.coords[\"lat\"].values[0]\n",
    "# convert to meters\n",
    "H = H * 111e3\n",
    "dy = H / ds.sizes[\"lat\"]"
   ]
  },
  {
   "cell_type": "code",
   "execution_count": null,
   "id": "22",
   "metadata": {},
   "outputs": [],
   "source": [
    "# lat axis\n",
    "lat_axis = Axis(\n",
    "    ds.coords[\"lat\"].min().item(),\n",
    "    ds.coords[\"lat\"].diff(\"lat\").mean().item(),\n",
    "    ds.sizes[\"lat\"],\n",
    ")"
   ]
  },
  {
   "cell_type": "code",
   "execution_count": null,
   "id": "23",
   "metadata": {},
   "outputs": [],
   "source": [
    "print(f\"{L = :.2e} m\")\n",
    "print(f\"{dx = :.2e} m\")\n",
    "print(f\"{H = :.2e} m\")\n",
    "print(f\"{dy = :.2e} m\")\n"
   ]
  },
  {
   "cell_type": "code",
   "execution_count": null,
   "id": "24",
   "metadata": {},
   "outputs": [],
   "source": [
    "# make a scaling object to convert between unit systems\n",
    "scaling = Scaling(H)"
   ]
  },
  {
   "cell_type": "code",
   "execution_count": null,
   "id": "25",
   "metadata": {},
   "outputs": [],
   "source": [
    "dx = scaling.distance.convert(dx, UnitSystem.SI, UnitSystem.scaled)\n",
    "dy = scaling.distance.convert(dy, UnitSystem.SI, UnitSystem.scaled)\n",
    "print(f\"{dx = :.2e} scaled\")\n",
    "print(f\"{dy = :.2e} scaled\")"
   ]
  },
  {
   "cell_type": "code",
   "execution_count": null,
   "id": "26",
   "metadata": {},
   "outputs": [],
   "source": [
    "# convert Fx and Fy to scaled units\n",
    "Fx = scaling.water_vapor_flux.convert(Fx.values, UnitSystem.natural, UnitSystem.scaled)\n",
    "Fy = scaling.water_vapor_flux.convert(Fy.values, UnitSystem.natural, UnitSystem.scaled)"
   ]
  },
  {
   "cell_type": "code",
   "execution_count": null,
   "id": "27",
   "metadata": {},
   "outputs": [],
   "source": [
    "# preprocess water vapor fluxes onto the secondary grid\n",
    "Fx_left = preprocess.prepare_Fx_left(Fx)\n",
    "Fx_right = preprocess.prepare_Fx_right(Fx)\n",
    "Fy_bottom = preprocess.prepare_Fy_bottom(Fy)\n",
    "Fy_top = preprocess.prepare_Fy_top(Fy)"
   ]
  },
  {
   "cell_type": "code",
   "execution_count": null,
   "id": "28",
   "metadata": {},
   "outputs": [],
   "source": [
    "# convert E to scaled units\n",
    "E = scaling.evaporation.convert(ds[\"Evap\"].values, UnitSystem.natural, UnitSystem.scaled)"
   ]
  },
  {
   "cell_type": "code",
   "execution_count": null,
   "id": "29",
   "metadata": {},
   "outputs": [],
   "source": [
    "# preprocess E onto the secondary grid\n",
    "E = preprocess.prepare_E(E)"
   ]
  },
  {
   "cell_type": "code",
   "execution_count": null,
   "id": "30",
   "metadata": {},
   "outputs": [],
   "source": [
    "# compute P\n",
    "P = preprocess.calculate_precipitation(Fx_left, Fx_right, Fy_bottom, Fy_top, E, dx, dy)"
   ]
  },
  {
   "cell_type": "markdown",
   "id": "31",
   "metadata": {},
   "source": [
    "plotting"
   ]
  },
  {
   "cell_type": "code",
   "execution_count": null,
   "id": "32",
   "metadata": {},
   "outputs": [],
   "source": [
    "import matplotlib.pyplot as plt"
   ]
  },
  {
   "cell_type": "code",
   "execution_count": null,
   "id": "33",
   "metadata": {},
   "outputs": [],
   "source": [
    "from bulk_recycling_model import plotting"
   ]
  },
  {
   "cell_type": "code",
   "execution_count": null,
   "id": "34",
   "metadata": {},
   "outputs": [],
   "source": [
    "fig, ax = plt.subplots()\n",
    "collection = plotting.pcolormesh(ax, E, lon_axis, lat_axis)\n",
    "fig.colorbar(collection, label=\"E (scaled)\")\n",
    "fig.suptitle(\"Evaporation on the secondary grid\")"
   ]
  },
  {
   "cell_type": "code",
   "execution_count": null,
   "id": "35",
   "metadata": {},
   "outputs": [],
   "source": [
    "fig, ax = plt.subplots()\n",
    "collection = plotting.pcolormesh(ax, P, lon_axis, lat_axis)\n",
    "fig.colorbar(collection, label=\"P (scaled)\")\n",
    "fig.suptitle(\"Calculated Precipitation\")"
   ]
  },
  {
   "cell_type": "code",
   "execution_count": null,
   "id": "36",
   "metadata": {},
   "outputs": [],
   "source": [
    "# get modelled P on the secondary grid\n",
    "modelled_P = preprocess.prepare_P(ds[\"Prec\"].values)\n",
    "# convert modelled P to scaled units\n",
    "modelled_P = scaling.precipitation.convert(modelled_P, UnitSystem.natural, UnitSystem.scaled)"
   ]
  },
  {
   "cell_type": "code",
   "execution_count": null,
   "id": "37",
   "metadata": {},
   "outputs": [],
   "source": [
    "print(f\"Modelled P has mean {modelled_P.mean()} and std {modelled_P.std()}\")\n",
    "print(f\"Calculated P has mean {P.mean()} and std {P.std()}\")\n",
    "print(f\"Comparing modelled and calculated precipitation RMSE: {np.sqrt(np.mean((P - modelled_P) ** 2))}\")"
   ]
  },
  {
   "cell_type": "code",
   "execution_count": null,
   "id": "38",
   "metadata": {},
   "outputs": [],
   "source": [
    "# difference between modelled and calculated precipitation\n",
    "fig, ax = plt.subplots()\n",
    "collection = plotting.pcolormesh(ax, P - modelled_P, lon_axis, lat_axis)\n",
    "fig.colorbar(collection, label=\"P (mm/day)\")\n",
    "fig.suptitle(\"Difference between modelled and calculated precipitation\")"
   ]
  },
  {
   "cell_type": "code",
   "execution_count": null,
   "id": "39",
   "metadata": {},
   "outputs": [],
   "source": [
    "# Create a quiver plot\n",
    "fig, ax = plt.subplots()\n",
    "collection = plotting.pcolormesh(ax, E, lon_axis, lat_axis, alpha=0.5)\n",
    "fig.colorbar(collection, label=\"E (scaled)\")\n",
    "plotting.quiver(ax, Fx_left, Fx_right, Fy_bottom, Fy_top, lon_axis, lat_axis)\n",
    "fig.suptitle(\"Evaporation + Water Vapor Fluxes on cell edges\")"
   ]
  },
  {
   "cell_type": "code",
   "execution_count": null,
   "id": "40",
   "metadata": {},
   "outputs": [],
   "source": []
  }
 ],
 "metadata": {
  "kernelspec": {
   "display_name": "f4r-bulk-recycling-model",
   "language": "python",
   "name": "python3"
  },
  "language_info": {
   "codemirror_mode": {
    "name": "ipython",
    "version": 3
   },
   "file_extension": ".py",
   "mimetype": "text/x-python",
   "name": "python",
   "nbconvert_exporter": "python",
   "pygments_lexer": "ipython3",
   "version": "3.13.3"
  }
 },
 "nbformat": 4,
 "nbformat_minor": 5
}
